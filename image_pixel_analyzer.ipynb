{
 "cells": [
  {
   "cell_type": "code",
   "execution_count": 1,
   "id": "07b7a65d",
   "metadata": {},
   "outputs": [
    {
     "name": "stdout",
     "output_type": "stream",
     "text": [
      "encompass: 21588\tcamp: 10273\n"
     ]
    }
   ],
   "source": [
    "import os\n",
    "import glob\n",
    "import cv2\n",
    "import numpy as np\n",
    "import pandas as pd\n",
    "from tqdm.auto import tqdm\n",
    "from scipy.signal import find_peaks\n",
    "\n",
    "encompass_images = glob.glob(\"./data/encompass/*/*.jpg\")\n",
    "camp_images = glob.glob(\"./data/camp/*/*.jpg\")\n",
    "print(f\"encompass: {len(encompass_images)}\\tcamp: {len(camp_images)}\")"
   ]
  },
  {
   "cell_type": "code",
   "execution_count": 9,
   "id": "46a6b80f",
   "metadata": {
    "scrolled": true
   },
   "outputs": [],
   "source": [
    "def analyze_image(image):\n",
    "    src = cv2.imread(image)\n",
    "    rgb = cv2.cvtColor(src, cv2.COLOR_BGR2RGB)\n",
    "    hsv = cv2.cvtColor(src, cv2.COLOR_BGR2HSV)\n",
    "    lab = cv2.cvtColor(src, cv2.COLOR_BGR2LAB)\n",
    "\n",
    "    r, g, b = cv2.split(rgb)\n",
    "    h, s, v = cv2.split(hsv)\n",
    "    l, a, b = cv2.split(lab)\n",
    "\n",
    "    hist = cv2.calcHist(h, [0], None, [180], [0, 180])\n",
    "    reshaped_hist = hist.reshape(-1)\n",
    "    peaks, _ = find_peaks(reshaped_hist, height=0)\n",
    "\n",
    "    mean_r, var_r = np.mean(r), np.var(r)\n",
    "    mean_g, var_g = np.mean(g), np.var(g)\n",
    "    mean_b, var_b = np.mean(b), np.var(b)\n",
    "\n",
    "    h_peaks = len(peaks)\n",
    "    mean_s, var_s = np.mean(s), np.var(s)\n",
    "    mean_v, var_v = np.mean(v), np.var(v)\n",
    "    \n",
    "    contrast = calc_contrast(l)\n",
    "    \n",
    "    return [mean_r, var_r, mean_g, var_g, mean_b, var_b, h_peaks, mean_s, var_s, mean_v, var_v, contrast]    \n",
    "\n",
    "\n",
    "def calc_contrast(l):\n",
    "    kernel = np.ones((5,5),np.uint8)\n",
    "    \n",
    "    min_value = cv2.erode(l, kernel, iterations=1)\n",
    "    max_value = cv2.dilate(l, kernel, iterations=1)\n",
    "\n",
    "    min_value = min_value.astype(np.float64) \n",
    "    max_value = max_value.astype(np.float64) \n",
    "\n",
    "    contrast = (max_value - min_value) / (max_value + min_value)\n",
    "\n",
    "    return np.mean(contrast)\n",
    "    \n",
    "\n",
    "def append_results(df, col_names, meta, result):\n",
    "    dataset, ID, number, fname = meta\n",
    "    mean_r, var_r, mean_g, var_g, mean_b, var_b, h_peaks, mean_s, var_s, mean_v, var_v, contrast = result\n",
    "    \n",
    "    df = df.append({col_names[0]: dataset, col_names[1]: ID, col_names[2]: number, col_names[3]: fname,\n",
    "                    col_names[4]: mean_r, col_names[5]: var_r, \n",
    "                    col_names[6]: mean_g, col_names[7]: var_g, \n",
    "                    col_names[8]: mean_b, col_names[9]: var_b, \n",
    "                    col_names[10]: h_peaks, \n",
    "                    col_names[11]: mean_s, col_names[12]: var_s, \n",
    "                    col_names[13]: mean_v, col_names[14]: var_v, \n",
    "                    col_names[15]: contrast}, ignore_index=True)\n",
    "\n",
    "    return df"
   ]
  },
  {
   "cell_type": "code",
   "execution_count": null,
   "id": "a33c69d6",
   "metadata": {},
   "outputs": [
    {
     "data": {
      "application/vnd.jupyter.widget-view+json": {
       "model_id": "c8d45ad80fe74a169ee508209ada85e8",
       "version_major": 2,
       "version_minor": 0
      },
      "text/plain": [
       "  0%|          | 0/21588 [00:00<?, ?it/s]"
      ]
     },
     "metadata": {},
     "output_type": "display_data"
    },
    {
     "name": "stderr",
     "output_type": "stream",
     "text": [
      "<ipython-input-9-c456d48a9794>:37: RuntimeWarning: invalid value encountered in true_divide\n",
      "  contrast = (max_value - min_value) / (max_value + min_value)\n"
     ]
    }
   ],
   "source": [
    "col_names = [\"dataset\", \"ID\", \"number\", \"fname\", \n",
    "             \"mean_r\", \"var_r\", \"mean_g\", \"var_g\", \"mean_b\", \"var_b\", \n",
    "             \"h_peaks\", \"mean_s\", \"var_s\", \"mean_v\", \"var_v\", \"contrast\"]\n",
    "\n",
    "df = pd.DataFrame([], columns=col_names)\n",
    "\n",
    "for index, image in enumerate(tqdm(encompass_images)):\n",
    "    meta_ = image.split(\"/\")\n",
    "    meta = [meta_[1], meta_[2], int(index), image]\n",
    "    result = analyze_image(image)\n",
    "    df = append_results(df, col_names, meta, result)\n",
    "    \n",
    "print(df.shape)"
   ]
  },
  {
   "cell_type": "code",
   "execution_count": null,
   "id": "e56b5f52",
   "metadata": {},
   "outputs": [],
   "source": [
    "for index, image in enumerate(tqdm(camp_images)):\n",
    "    meta_ = image.split(\"/\")\n",
    "    meta = [meta_[1], meta_[2], int(index), image]\n",
    "    result = analyze_image(image)\n",
    "    df = append_results(df, col_names, meta, result)\n",
    "    \n",
    "print(df.shape)"
   ]
  },
  {
   "cell_type": "code",
   "execution_count": null,
   "id": "e4b525fd",
   "metadata": {},
   "outputs": [],
   "source": []
  }
 ],
 "metadata": {
  "kernelspec": {
   "display_name": "Python 3",
   "language": "python",
   "name": "python3"
  },
  "language_info": {
   "codemirror_mode": {
    "name": "ipython",
    "version": 3
   },
   "file_extension": ".py",
   "mimetype": "text/x-python",
   "name": "python",
   "nbconvert_exporter": "python",
   "pygments_lexer": "ipython3",
   "version": "3.8.0"
  }
 },
 "nbformat": 4,
 "nbformat_minor": 5
}
