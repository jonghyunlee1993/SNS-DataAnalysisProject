{
 "cells": [
  {
   "cell_type": "code",
   "execution_count": 1,
   "id": "958c4eef",
   "metadata": {},
   "outputs": [
    {
     "data": {
      "text/plain": [
       "<azure.cognitiveservices.vision.computervision._computer_vision_client.ComputerVisionClient at 0x7fd92bfdb5b0>"
      ]
     },
     "execution_count": 1,
     "metadata": {},
     "output_type": "execute_result"
    }
   ],
   "source": [
    "from azure.cognitiveservices.vision.computervision import ComputerVisionClient\n",
    "from azure.cognitiveservices.vision.computervision.models import OperationStatusCodes\n",
    "from azure.cognitiveservices.vision.computervision.models import VisualFeatureTypes\n",
    "from msrest.authentication import CognitiveServicesCredentials\n",
    "\n",
    "import os\n",
    "import glob\n",
    "import requests\n",
    "import pandas as pd\n",
    "from PIL import Image\n",
    "from array import array\n",
    "from tqdm.auto import tqdm\n",
    "\n",
    "from data.api_keys import *\n",
    "\n",
    "computervision_client = ComputerVisionClient(endpoint, CognitiveServicesCredentials(subscription_key))\n",
    "computervision_client\n"
   ]
  },
  {
   "cell_type": "code",
   "execution_count": 2,
   "id": "d2d7af78",
   "metadata": {},
   "outputs": [
    {
     "name": "stdout",
     "output_type": "stream",
     "text": [
      "encompass: 21588\tcamp: 10273\n"
     ]
    }
   ],
   "source": [
    "encompass_images = glob.glob(\"./data/encompass/*/*.jpg\")\n",
    "camp_images = glob.glob(\"./data/camp/*/*.jpg\")\n",
    "print(f\"encompass: {len(encompass_images)}\\tcamp: {len(camp_images)}\")"
   ]
  },
  {
   "cell_type": "code",
   "execution_count": 3,
   "id": "76984939",
   "metadata": {
    "scrolled": true
   },
   "outputs": [],
   "source": [
    "# test_image = encompass_images[0]\n",
    "# test_image"
   ]
  },
  {
   "cell_type": "code",
   "execution_count": 4,
   "id": "77534cfa",
   "metadata": {
    "scrolled": true
   },
   "outputs": [],
   "source": [
    "# image_data = open(test_image, \"rb\").read()\n",
    "# analyze_url = endpoint + \"vision/v3.2/analyze?visualFeatures=Categories,Objects,Tags&model-version=latest\"\n",
    "# headers = {'Ocp-Apim-Subscription-Key': subscription_key,\n",
    "#            'Content-Type': 'application/octet-stream'}\n",
    "# response = requests.post(\n",
    "#     analyze_url, headers=headers, data=image_data)\n",
    "# response.raise_for_status()\n",
    "\n",
    "# analysis = response.json()\n",
    "# print(analysis)"
   ]
  },
  {
   "cell_type": "code",
   "execution_count": 7,
   "id": "1f28a24b",
   "metadata": {},
   "outputs": [],
   "source": [
    "class Analyzer:\n",
    "    def __init__(self, endpoint, subscription_key):\n",
    "        self.analyze_url = endpoint + \"vision/v3.2/analyze?visualFeatures=Categories,Objects,Tags&model-version=latest\"\n",
    "        self.headers = {'Ocp-Apim-Subscription-Key': subscription_key,\n",
    "                       'Content-Type': 'application/octet-stream'}\n",
    "        \n",
    "        self.col_names = [\"dataset\", \"ID\", \"number\", \"fname\", \"categories\", \"tags\", \"objects\"]\n",
    "        self.df = pd.DataFrame([], columns=self.col_names)\n",
    "        \n",
    "    def run(self, image_path, index):\n",
    "        meta_ = image_path.split(\"/\")\n",
    "        meta = [meta_[2], meta_[3], int(index), meta_[-1]]\n",
    "        \n",
    "        image = open(image_path, \"rb\").read()\n",
    "        response = requests.post(\n",
    "            self.analyze_url, headers=self.headers, data=image)\n",
    "        response.raise_for_status()\n",
    "\n",
    "        results = response.json()\n",
    "        self.append_results(meta, results)\n",
    "    \n",
    "    \n",
    "    def append_results(self, meta, results):\n",
    "        dataset, ID, number, fname = meta\n",
    "        categories = results['categories']\n",
    "        tags = results['tags']\n",
    "        objects = results['objects']\n",
    "        \n",
    "        self.df = self.df.append({self.col_names[0]: dataset, \n",
    "                                  self.col_names[1]: ID, \n",
    "                                  self.col_names[2]: number, \n",
    "                                  self.col_names[3]: fname, \n",
    "                                  self.col_names[4]: categories, \n",
    "                                  self.col_names[5]: tags, \n",
    "                                  self.col_names[6]: objects}, ignore_index=True)\n",
    "        "
   ]
  },
  {
   "cell_type": "code",
   "execution_count": null,
   "id": "4a2a4e1e",
   "metadata": {
    "scrolled": true
   },
   "outputs": [
    {
     "data": {
      "application/vnd.jupyter.widget-view+json": {
       "model_id": "5e58c5c2e0624d5dbff19ad1afb9fbfc",
       "version_major": 2,
       "version_minor": 0
      },
      "text/plain": [
       "  0%|          | 0/21588 [00:00<?, ?it/s]"
      ]
     },
     "metadata": {},
     "output_type": "display_data"
    }
   ],
   "source": [
    "analyzer = Analyzer(endpoint, subscription_key)\n",
    "\n",
    "for index, image in enumerate(tqdm(encompass_images)):\n",
    "    analyzer.run(image, index)\n",
    "\n",
    "for index, image in enumerate(tqdm(camp_images)):\n",
    "    analyzer.run(image, index)\n",
    "    \n",
    "analyzer.df.to_csv(\"data/image_information_azure.csv\", index=False)"
   ]
  },
  {
   "cell_type": "code",
   "execution_count": null,
   "id": "b8709bdd",
   "metadata": {},
   "outputs": [],
   "source": []
  }
 ],
 "metadata": {
  "kernelspec": {
   "display_name": "Python 3",
   "language": "python",
   "name": "python3"
  },
  "language_info": {
   "codemirror_mode": {
    "name": "ipython",
    "version": 3
   },
   "file_extension": ".py",
   "mimetype": "text/x-python",
   "name": "python",
   "nbconvert_exporter": "python",
   "pygments_lexer": "ipython3",
   "version": "3.8.0"
  }
 },
 "nbformat": 4,
 "nbformat_minor": 5
}
