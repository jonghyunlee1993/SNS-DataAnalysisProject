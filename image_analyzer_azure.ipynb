{
 "cells": [
  {
   "cell_type": "code",
   "execution_count": 1,
   "id": "958c4eef",
   "metadata": {},
   "outputs": [
    {
     "data": {
      "text/plain": [
       "<azure.cognitiveservices.vision.computervision._computer_vision_client.ComputerVisionClient at 0x7fd92bfdb5b0>"
      ]
     },
     "execution_count": 1,
     "metadata": {},
     "output_type": "execute_result"
    }
   ],
   "source": [
    "from azure.cognitiveservices.vision.computervision import ComputerVisionClient\n",
    "from azure.cognitiveservices.vision.computervision.models import OperationStatusCodes\n",
    "from azure.cognitiveservices.vision.computervision.models import VisualFeatureTypes\n",
    "from msrest.authentication import CognitiveServicesCredentials\n",
    "\n",
    "import os\n",
    "import glob\n",
    "import requests\n",
    "import pandas as pd\n",
    "from PIL import Image\n",
    "from array import array\n",
    "from tqdm.auto import tqdm\n",
    "\n",
    "from data.api_keys import *\n",
    "\n",
    "computervision_client = ComputerVisionClient(endpoint, CognitiveServicesCredentials(subscription_key))\n",
    "computervision_client\n"
   ]
  },
  {
   "cell_type": "code",
   "execution_count": 2,
   "id": "d2d7af78",
   "metadata": {},
   "outputs": [
    {
     "name": "stdout",
     "output_type": "stream",
     "text": [
      "encompass: 21588\tcamp: 10273\n"
     ]
    }
   ],
   "source": [
    "encompass_images = glob.glob(\"./data/encompass/*/*.jpg\")\n",
    "camp_images = glob.glob(\"./data/camp/*/*.jpg\")\n",
    "print(f\"encompass: {len(encompass_images)}\\tcamp: {len(camp_images)}\")"
   ]
  },
  {
   "cell_type": "code",
   "execution_count": 3,
   "id": "76984939",
   "metadata": {
    "scrolled": true
   },
   "outputs": [],
   "source": [
    "# test_image = encompass_images[0]\n",
    "# test_image"
   ]
  },
  {
   "cell_type": "code",
   "execution_count": 4,
   "id": "77534cfa",
   "metadata": {
    "scrolled": true
   },
   "outputs": [],
   "source": [
    "# image_data = open(test_image, \"rb\").read()\n",
    "# analyze_url = endpoint + \"vision/v3.2/analyze?visualFeatures=Categories,Objects,Tags&model-version=latest\"\n",
    "# headers = {'Ocp-Apim-Subscription-Key': subscription_key,\n",
    "#            'Content-Type': 'application/octet-stream'}\n",
    "# response = requests.post(\n",
    "#     analyze_url, headers=headers, data=image_data)\n",
    "# response.raise_for_status()\n",
    "\n",
    "# analysis = response.json()\n",
    "# print(analysis)"
   ]
  },
  {
   "cell_type": "code",
   "execution_count": 11,
   "id": "1f28a24b",
   "metadata": {},
   "outputs": [],
   "source": [
    "class Analyzer:\n",
    "    def __init__(self, endpoint, subscription_key):\n",
    "        self.analyze_url = endpoint + \"vision/v3.2/analyze?visualFeatures=Categories,Objects,Tags&model-version=latest\"\n",
    "        self.headers = {'Ocp-Apim-Subscription-Key': subscription_key,\n",
    "                       'Content-Type': 'application/octet-stream'}\n",
    "        \n",
    "        self.col_names = [\"dataset\", \"ID\", \"number\", \"fname\", \"categories\", \"tags\", \"objects\"]\n",
    "        self.df = pd.DataFrame([], columns=self.col_names)\n",
    "        \n",
    "    def run(self, image_path, index):\n",
    "        meta_ = image_path.split(\"/\")\n",
    "        meta = [meta_[2], meta_[3], int(index), meta_[-1]]\n",
    "        \n",
    "        image = open(image_path, \"rb\").read()\n",
    "        try:\n",
    "            response = requests.post(\n",
    "                self.analyze_url, headers=self.headers, data=image)\n",
    "            response.raise_for_status()\n",
    "\n",
    "            results = response.json()\n",
    "            self.append_results(meta, results)\n",
    "        except:\n",
    "            print(f\"unexpected error: {image_path}\")\n",
    "    \n",
    "    \n",
    "    def append_results(self, meta, results):\n",
    "        dataset, ID, number, fname = meta\n",
    "        categories = results['categories']\n",
    "        tags = results['tags']\n",
    "        objects = results['objects']\n",
    "        \n",
    "        self.df = self.df.append({self.col_names[0]: dataset, \n",
    "                                  self.col_names[1]: ID, \n",
    "                                  self.col_names[2]: number, \n",
    "                                  self.col_names[3]: fname, \n",
    "                                  self.col_names[4]: categories, \n",
    "                                  self.col_names[5]: tags, \n",
    "                                  self.col_names[6]: objects}, ignore_index=True)\n",
    "        "
   ]
  },
  {
   "cell_type": "code",
   "execution_count": 12,
   "id": "4a2a4e1e",
   "metadata": {
    "scrolled": true
   },
   "outputs": [
    {
     "data": {
      "application/vnd.jupyter.widget-view+json": {
       "model_id": "6b3695ed7a7545cf9d6b1edc169069d2",
       "version_major": 2,
       "version_minor": 0
      },
      "text/plain": [
       "  0%|          | 0/21588 [00:00<?, ?it/s]"
      ]
     },
     "metadata": {},
     "output_type": "display_data"
    },
    {
     "name": "stdout",
     "output_type": "stream",
     "text": [
      "unexpected error: ./data/encompass/sns002/sns002_0019.jpg\n",
      "unexpected error: ./data/encompass/sns003/sns003_0108.jpg\n",
      "unexpected error: ./data/encompass/sns003/sns003_0346.jpg\n",
      "unexpected error: ./data/encompass/sns003/sns003_0765.jpg\n",
      "unexpected error: ./data/encompass/sns003/sns003_0890.jpg\n",
      "unexpected error: ./data/encompass/sns004/sns004_0028.jpg\n",
      "unexpected error: ./data/encompass/sns018/sns018_0043.jpg\n",
      "unexpected error: ./data/encompass/sns021/sns021_0052.jpg\n"
     ]
    }
   ],
   "source": [
    "analyzer = Analyzer(endpoint, subscription_key)\n",
    "\n",
    "for index, image in enumerate(tqdm(encompass_images)):\n",
    "    analyzer.run(image, index)\n"
   ]
  },
  {
   "cell_type": "code",
   "execution_count": 13,
   "id": "b8709bdd",
   "metadata": {},
   "outputs": [
    {
     "data": {
      "application/vnd.jupyter.widget-view+json": {
       "model_id": "681a90930e67404b8572c4dea0fe77bb",
       "version_major": 2,
       "version_minor": 0
      },
      "text/plain": [
       "  0%|          | 0/10273 [00:00<?, ?it/s]"
      ]
     },
     "metadata": {},
     "output_type": "display_data"
    },
    {
     "name": "stdout",
     "output_type": "stream",
     "text": [
      "unexpected error: ./data/camp/esther_chaenny/2019-01-15 18.45.32 1957276243801672398_2996699855.jpg\n",
      "unexpected error: ./data/camp/jjeongstagram/2017-05-06 12.16.10 1508442350228961105_477117679.jpg\n"
     ]
    }
   ],
   "source": [
    "for index, image in enumerate(tqdm(camp_images)):\n",
    "    analyzer.run(image, index)\n"
   ]
  },
  {
   "cell_type": "code",
   "execution_count": 14,
   "id": "18bd00c7",
   "metadata": {},
   "outputs": [],
   "source": [
    "analyzer.df.to_csv(\"results/image_information_azure.csv\", index=False)"
   ]
  },
  {
   "cell_type": "code",
   "execution_count": 15,
   "id": "9872d800",
   "metadata": {},
   "outputs": [
    {
     "data": {
      "text/html": [
       "<div>\n",
       "<style scoped>\n",
       "    .dataframe tbody tr th:only-of-type {\n",
       "        vertical-align: middle;\n",
       "    }\n",
       "\n",
       "    .dataframe tbody tr th {\n",
       "        vertical-align: top;\n",
       "    }\n",
       "\n",
       "    .dataframe thead th {\n",
       "        text-align: right;\n",
       "    }\n",
       "</style>\n",
       "<table border=\"1\" class=\"dataframe\">\n",
       "  <thead>\n",
       "    <tr style=\"text-align: right;\">\n",
       "      <th></th>\n",
       "      <th>dataset</th>\n",
       "      <th>ID</th>\n",
       "      <th>number</th>\n",
       "      <th>fname</th>\n",
       "      <th>categories</th>\n",
       "      <th>tags</th>\n",
       "      <th>objects</th>\n",
       "    </tr>\n",
       "  </thead>\n",
       "  <tbody>\n",
       "    <tr>\n",
       "      <th>0</th>\n",
       "      <td>encompass</td>\n",
       "      <td>sns002</td>\n",
       "      <td>0</td>\n",
       "      <td>sns002_0001.jpg</td>\n",
       "      <td>[{'name': 'abstract_nonphoto', 'score': 0.5}, ...</td>\n",
       "      <td>[{'name': 'text', 'confidence': 0.999978721141...</td>\n",
       "      <td>[{'rectangle': {'x': 196, 'y': 537, 'w': 412, ...</td>\n",
       "    </tr>\n",
       "    <tr>\n",
       "      <th>1</th>\n",
       "      <td>encompass</td>\n",
       "      <td>sns002</td>\n",
       "      <td>1</td>\n",
       "      <td>sns002_0002.jpg</td>\n",
       "      <td>[{'name': 'others_', 'score': 0.09765625}, {'n...</td>\n",
       "      <td>[{'name': 'text', 'confidence': 0.999947249889...</td>\n",
       "      <td>[{'rectangle': {'x': 124, 'y': 529, 'w': 400, ...</td>\n",
       "    </tr>\n",
       "    <tr>\n",
       "      <th>2</th>\n",
       "      <td>encompass</td>\n",
       "      <td>sns002</td>\n",
       "      <td>2</td>\n",
       "      <td>sns002_0003.jpg</td>\n",
       "      <td>[{'name': 'people_group', 'score': 0.41796875}...</td>\n",
       "      <td>[{'name': 'human face', 'confidence': 0.998585...</td>\n",
       "      <td>[{'rectangle': {'x': 330, 'y': 637, 'w': 106, ...</td>\n",
       "    </tr>\n",
       "    <tr>\n",
       "      <th>3</th>\n",
       "      <td>encompass</td>\n",
       "      <td>sns002</td>\n",
       "      <td>3</td>\n",
       "      <td>sns002_0004.jpg</td>\n",
       "      <td>[{'name': 'drink_', 'score': 0.99609375}]</td>\n",
       "      <td>[{'name': 'text', 'confidence': 0.993455529212...</td>\n",
       "      <td>[]</td>\n",
       "    </tr>\n",
       "    <tr>\n",
       "      <th>4</th>\n",
       "      <td>encompass</td>\n",
       "      <td>sns002</td>\n",
       "      <td>4</td>\n",
       "      <td>sns002_0005.jpg</td>\n",
       "      <td>[{'name': 'others_', 'score': 0.015625}, {'nam...</td>\n",
       "      <td>[{'name': 'text', 'confidence': 0.999690890312...</td>\n",
       "      <td>[{'rectangle': {'x': 612, 'y': 424, 'w': 266, ...</td>\n",
       "    </tr>\n",
       "    <tr>\n",
       "      <th>...</th>\n",
       "      <td>...</td>\n",
       "      <td>...</td>\n",
       "      <td>...</td>\n",
       "      <td>...</td>\n",
       "      <td>...</td>\n",
       "      <td>...</td>\n",
       "      <td>...</td>\n",
       "    </tr>\n",
       "    <tr>\n",
       "      <th>31846</th>\n",
       "      <td>camp</td>\n",
       "      <td>yooseoni_i</td>\n",
       "      <td>10268</td>\n",
       "      <td>2019-08-09 23.19.32 2106717950559097719_402754...</td>\n",
       "      <td>[{'name': 'people_portrait', 'score': 0.839843...</td>\n",
       "      <td>[{'name': 'person', 'confidence': 0.9958564639...</td>\n",
       "      <td>[{'rectangle': {'x': 98, 'y': 0, 'w': 647, 'h'...</td>\n",
       "    </tr>\n",
       "    <tr>\n",
       "      <th>31847</th>\n",
       "      <td>camp</td>\n",
       "      <td>yooseoni_i</td>\n",
       "      <td>10269</td>\n",
       "      <td>2019-07-09 23.05.17 2084242731647054588_402754...</td>\n",
       "      <td>[{'name': 'people_', 'score': 0.85546875}]</td>\n",
       "      <td>[{'name': 'person', 'confidence': 0.9965835809...</td>\n",
       "      <td>[{'rectangle': {'x': 171, 'y': 7, 'w': 520, 'h...</td>\n",
       "    </tr>\n",
       "    <tr>\n",
       "      <th>31848</th>\n",
       "      <td>camp</td>\n",
       "      <td>yooseoni_i</td>\n",
       "      <td>10270</td>\n",
       "      <td>2019-08-01 23.11.34 2100915741011333070_402754...</td>\n",
       "      <td>[{'name': 'people_young', 'score': 0.46875}]</td>\n",
       "      <td>[{'name': 'person', 'confidence': 0.9971476793...</td>\n",
       "      <td>[{'rectangle': {'x': 93, 'y': 73, 'w': 576, 'h...</td>\n",
       "    </tr>\n",
       "    <tr>\n",
       "      <th>31849</th>\n",
       "      <td>camp</td>\n",
       "      <td>yooseoni_i</td>\n",
       "      <td>10271</td>\n",
       "      <td>2019-09-12 23.33.51 2131367530286139018_402754...</td>\n",
       "      <td>[{'name': 'people_young', 'score': 0.44921875}]</td>\n",
       "      <td>[{'name': 'person', 'confidence': 0.9986907243...</td>\n",
       "      <td>[{'rectangle': {'x': 0, 'y': 4, 'w': 283, 'h':...</td>\n",
       "    </tr>\n",
       "    <tr>\n",
       "      <th>31850</th>\n",
       "      <td>camp</td>\n",
       "      <td>yooseoni_i</td>\n",
       "      <td>10272</td>\n",
       "      <td>2019-08-09 23.19.32 2106717952530400015_402754...</td>\n",
       "      <td>[{'name': 'people_portrait', 'score': 0.863281...</td>\n",
       "      <td>[{'name': 'human face', 'confidence': 0.998405...</td>\n",
       "      <td>[{'rectangle': {'x': 30, 'y': 0, 'w': 703, 'h'...</td>\n",
       "    </tr>\n",
       "  </tbody>\n",
       "</table>\n",
       "<p>31851 rows × 7 columns</p>\n",
       "</div>"
      ],
      "text/plain": [
       "         dataset          ID number  \\\n",
       "0      encompass      sns002      0   \n",
       "1      encompass      sns002      1   \n",
       "2      encompass      sns002      2   \n",
       "3      encompass      sns002      3   \n",
       "4      encompass      sns002      4   \n",
       "...          ...         ...    ...   \n",
       "31846       camp  yooseoni_i  10268   \n",
       "31847       camp  yooseoni_i  10269   \n",
       "31848       camp  yooseoni_i  10270   \n",
       "31849       camp  yooseoni_i  10271   \n",
       "31850       camp  yooseoni_i  10272   \n",
       "\n",
       "                                                   fname  \\\n",
       "0                                        sns002_0001.jpg   \n",
       "1                                        sns002_0002.jpg   \n",
       "2                                        sns002_0003.jpg   \n",
       "3                                        sns002_0004.jpg   \n",
       "4                                        sns002_0005.jpg   \n",
       "...                                                  ...   \n",
       "31846  2019-08-09 23.19.32 2106717950559097719_402754...   \n",
       "31847  2019-07-09 23.05.17 2084242731647054588_402754...   \n",
       "31848  2019-08-01 23.11.34 2100915741011333070_402754...   \n",
       "31849  2019-09-12 23.33.51 2131367530286139018_402754...   \n",
       "31850  2019-08-09 23.19.32 2106717952530400015_402754...   \n",
       "\n",
       "                                              categories  \\\n",
       "0      [{'name': 'abstract_nonphoto', 'score': 0.5}, ...   \n",
       "1      [{'name': 'others_', 'score': 0.09765625}, {'n...   \n",
       "2      [{'name': 'people_group', 'score': 0.41796875}...   \n",
       "3              [{'name': 'drink_', 'score': 0.99609375}]   \n",
       "4      [{'name': 'others_', 'score': 0.015625}, {'nam...   \n",
       "...                                                  ...   \n",
       "31846  [{'name': 'people_portrait', 'score': 0.839843...   \n",
       "31847         [{'name': 'people_', 'score': 0.85546875}]   \n",
       "31848       [{'name': 'people_young', 'score': 0.46875}]   \n",
       "31849    [{'name': 'people_young', 'score': 0.44921875}]   \n",
       "31850  [{'name': 'people_portrait', 'score': 0.863281...   \n",
       "\n",
       "                                                    tags  \\\n",
       "0      [{'name': 'text', 'confidence': 0.999978721141...   \n",
       "1      [{'name': 'text', 'confidence': 0.999947249889...   \n",
       "2      [{'name': 'human face', 'confidence': 0.998585...   \n",
       "3      [{'name': 'text', 'confidence': 0.993455529212...   \n",
       "4      [{'name': 'text', 'confidence': 0.999690890312...   \n",
       "...                                                  ...   \n",
       "31846  [{'name': 'person', 'confidence': 0.9958564639...   \n",
       "31847  [{'name': 'person', 'confidence': 0.9965835809...   \n",
       "31848  [{'name': 'person', 'confidence': 0.9971476793...   \n",
       "31849  [{'name': 'person', 'confidence': 0.9986907243...   \n",
       "31850  [{'name': 'human face', 'confidence': 0.998405...   \n",
       "\n",
       "                                                 objects  \n",
       "0      [{'rectangle': {'x': 196, 'y': 537, 'w': 412, ...  \n",
       "1      [{'rectangle': {'x': 124, 'y': 529, 'w': 400, ...  \n",
       "2      [{'rectangle': {'x': 330, 'y': 637, 'w': 106, ...  \n",
       "3                                                     []  \n",
       "4      [{'rectangle': {'x': 612, 'y': 424, 'w': 266, ...  \n",
       "...                                                  ...  \n",
       "31846  [{'rectangle': {'x': 98, 'y': 0, 'w': 647, 'h'...  \n",
       "31847  [{'rectangle': {'x': 171, 'y': 7, 'w': 520, 'h...  \n",
       "31848  [{'rectangle': {'x': 93, 'y': 73, 'w': 576, 'h...  \n",
       "31849  [{'rectangle': {'x': 0, 'y': 4, 'w': 283, 'h':...  \n",
       "31850  [{'rectangle': {'x': 30, 'y': 0, 'w': 703, 'h'...  \n",
       "\n",
       "[31851 rows x 7 columns]"
      ]
     },
     "execution_count": 15,
     "metadata": {},
     "output_type": "execute_result"
    }
   ],
   "source": [
    "analyzer.df"
   ]
  },
  {
   "cell_type": "code",
   "execution_count": null,
   "id": "05ae19d9",
   "metadata": {},
   "outputs": [],
   "source": []
  }
 ],
 "metadata": {
  "kernelspec": {
   "display_name": "Python 3",
   "language": "python",
   "name": "python3"
  },
  "language_info": {
   "codemirror_mode": {
    "name": "ipython",
    "version": 3
   },
   "file_extension": ".py",
   "mimetype": "text/x-python",
   "name": "python",
   "nbconvert_exporter": "python",
   "pygments_lexer": "ipython3",
   "version": "3.8.0"
  }
 },
 "nbformat": 4,
 "nbformat_minor": 5
}
